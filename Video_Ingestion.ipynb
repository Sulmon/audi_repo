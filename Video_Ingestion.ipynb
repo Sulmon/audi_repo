{
 "cells": [
  {
   "cell_type": "code",
   "execution_count": 0,
   "metadata": {
    "application/vnd.databricks.v1+cell": {
     "cellMetadata": {},
     "inputWidgets": {},
     "nuid": "812aa014-1cb7-4a40-84a3-5f87932946d2",
     "showTitle": true,
     "title": "IMPORTS"
    }
   },
   "outputs": [],
   "source": [
    "import os\n",
    "from azure.eventhub import EventHubProducerClient, EventData\n",
    "from PIL import Image\n",
    "from time import sleep"
   ]
  },
  {
   "cell_type": "code",
   "execution_count": 0,
   "metadata": {
    "application/vnd.databricks.v1+cell": {
     "cellMetadata": {},
     "inputWidgets": {},
     "nuid": "387fb83e-ae5c-44d5-ba15-93544fbb32aa",
     "showTitle": true,
     "title": "VARIABLES"
    }
   },
   "outputs": [],
   "source": [
    "CONNECTION_STRING = \"YOUR_EVENT_HUB_CONNECTION_STRING\"\n",
    "EVENT_HUB_NAME = \"YOUR_EVENT_HUB_NAME\"\n",
    "VIDEO_FILE_PATH = \"path_to_your_video_file\"\n",
    "FRAME_RATE = 0.1  # Time interval between frames in seconds"
   ]
  },
  {
   "cell_type": "code",
   "execution_count": 0,
   "metadata": {
    "application/vnd.databricks.v1+cell": {
     "cellMetadata": {},
     "inputWidgets": {},
     "nuid": "9d226bf1-edad-48d6-a29d-950377c9c5d2",
     "showTitle": true,
     "title": "HELPER FUNCTION (Sending Pics to EventHub)"
    }
   },
   "outputs": [],
   "source": [
    "def send_picture_to_event_hub(picture, timestamp):\n",
    "    producer_client = EventHubProducerClient.from_connection_string(CONNECTION_STRING, eventhub_name=EVENT_HUB_NAME)\n",
    "    event_data = EventData(body=picture)\n",
    "    event_data.properties = {'timestamp': str(timestamp)}\n",
    "    producer_client.send(event_data)\n",
    "    producer_client.close()"
   ]
  },
  {
   "cell_type": "code",
   "execution_count": 0,
   "metadata": {
    "application/vnd.databricks.v1+cell": {
     "cellMetadata": {},
     "inputWidgets": {},
     "nuid": "1778085b-7fb1-40ed-8164-b4788131b529",
     "showTitle": true,
     "title": "VIDEO STREAM SIMULATION"
    }
   },
   "outputs": [],
   "source": [
    "def simulate_video_stream():\n",
    "    video = Image.open(VIDEO_FILE_PATH)\n",
    "    frame_count = 0\n",
    "    timestamp = 0\n",
    "\n",
    "    while True:\n",
    "        try:\n",
    "            video.seek(frame_count)\n",
    "        except EOFError:\n",
    "            break\n",
    "\n",
    "        picture = video.convert(\"RGB\")\n",
    "        picture_path = f\"frame_{frame_count}.jpg\"\n",
    "        picture.save(picture_path)\n",
    "\n",
    "        with open(picture_path, \"rb\") as file:\n",
    "            picture_data = file.read()\n",
    "\n",
    "        send_picture_to_event_hub(picture_data, timestamp)\n",
    "\n",
    "        os.remove(picture_path)\n",
    "\n",
    "        frame_count += 1\n",
    "        timestamp += FRAME_RATE\n",
    "        sleep(FRAME_RATE)\n",
    "\n",
    "simulate_video_stream()"
   ]
  }
 ],
 "metadata": {
  "application/vnd.databricks.v1+notebook": {
   "dashboards": [],
   "language": "python",
   "notebookMetadata": {},
   "notebookName": "Video_Ingestion",
   "widgets": {}
  }
 },
 "nbformat": 4,
 "nbformat_minor": 0
}
